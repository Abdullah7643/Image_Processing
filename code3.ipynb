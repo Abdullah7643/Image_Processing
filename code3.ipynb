{
  "cells": [
    {
      "cell_type": "code",
      "execution_count": null,
      "metadata": {
        "id": "li7MwlfGeSXA"
      },
      "outputs": [],
      "source": [
        "import cv2\n",
        "import numpy as np\n",
        "import matplotlib.pyplot as plt\n",
        "import traceback"
      ]
    },
    {
      "cell_type": "markdown",
      "metadata": {
        "id": "F--mPNU2eSXB"
      },
      "source": [
        "# Q1: Display and count only the full circles"
      ]
    },
    {
      "cell_type": "code",
      "execution_count": null,
      "metadata": {
        "id": "_f9CX36MeSXC",
        "outputId": "205a3a39-4ad6-4a4e-d69f-af5306cb348f"
      },
      "outputs": [
        {
          "data": {
            "text/plain": [
              "256"
            ]
          },
          "execution_count": 69,
          "metadata": {},
          "output_type": "execute_result"
        }
      ],
      "source": [
        "###########################################################\n",
        "path = r'C:\\Users\\Abdullah\\Desktop\\python files\\aip\\bonus assign1\\data\\1.jpg'\n",
        "img1 = cv2.imread(path, cv2.IMREAD_GRAYSCALE)\n",
        "# img1 = cv2.bitwise_not(img1)\n",
        "thresh1, bw1 =  cv2.threshold(img1,180,255, cv2.THRESH_BINARY)\n",
        "# print(np.unique(img1))\n",
        "# print(np.unique(bw1))\n",
        "bw1 = cv2.bitwise_not(bw1)\n",
        "# plt.imshow(bw1,cmap='gray')\n",
        "contours, hierarchy = cv2.findContours(bw1,cv2.RETR_EXTERNAL,cv2.CHAIN_APPROX_SIMPLE)\n",
        "len(contours)"
      ]
    },
    {
      "cell_type": "code",
      "execution_count": null,
      "metadata": {
        "id": "lMnYO2zneSXD",
        "outputId": "183cb945-c103-4c41-dc4b-9e3316fc9208"
      },
      "outputs": [
        {
          "data": {
            "image/png": "[encoded data removed]",
            "text/plain": [
              "<Figure size 432x288 with 1 Axes>"
            ]
          },
          "metadata": {
            "needs_background": "light"
          },
          "output_type": "display_data"
        }
      ],
      "source": [
        "zero=np.zeros(img1.shape)\n",
        "\n",
        "# for x in range(len(contours)):\n",
        "#         plt.imshow(cv2.drawContours(zero, contours, x, (255,0,0), 5),cmap='gray')\n",
        "\n",
        "# for x in contours:\n",
        "#     print(cv2.arcLength(x,True))\n",
        "\n",
        "# for x in contours:\n",
        "#     print(cv2.contourArea(x))\n",
        "\n",
        "\n",
        "\n",
        "full=[]\n",
        "for x in range(len(contours)):\n",
        "    if((cv2.contourArea(contours[x]))>8):\n",
        "        full.append(x)\n",
        "for x in full:\n",
        "        plt.imshow(cv2.drawContours(zero, contours, x, (255,0,0), 5),cmap='gray')"
      ]
    },
    {
      "cell_type": "markdown",
      "metadata": {
        "id": "01MWZ3jfeSXE"
      },
      "source": [
        "# count of full circles"
      ]
    },
    {
      "cell_type": "code",
      "execution_count": null,
      "metadata": {
        "id": "aFtDMWUDeSXE",
        "outputId": "ad9db21a-e043-4ee6-9e97-5f0c48495a5d"
      },
      "outputs": [
        {
          "name": "stdout",
          "output_type": "stream",
          "text": [
            "Total number of complete circles =  225\n"
          ]
        }
      ],
      "source": [
        "print(\"Total number of complete circles = \",len(full))"
      ]
    },
    {
      "cell_type": "markdown",
      "metadata": {
        "id": "5dkXg0HneSXF"
      },
      "source": [
        "# Display and count the half circles"
      ]
    },
    {
      "cell_type": "code",
      "execution_count": null,
      "metadata": {
        "id": "K3iMFRCWeSXF",
        "outputId": "18214f5a-3b60-4268-a661-194de5ffc0bc"
      },
      "outputs": [
        {
          "data": {
            "image/png": "[encoded data removed]",
            "text/plain": [
              "<Figure size 432x288 with 1 Axes>"
            ]
          },
          "metadata": {
            "needs_background": "light"
          },
          "output_type": "display_data"
        }
      ],
      "source": [
        "zero=np.zeros(img1.shape)\n",
        "small=[]\n",
        "for x in range(len(contours)):\n",
        "    if((cv2.contourArea(contours[x]))<9):\n",
        "        small.append(x)\n",
        "\n",
        "for x in small:\n",
        "        plt.imshow(cv2.drawContours(zero, contours, x, (255,0,0), 5),cmap='gray')"
      ]
    },
    {
      "cell_type": "markdown",
      "metadata": {
        "id": "xEgImxiMeSXF"
      },
      "source": [
        "# count of half circles"
      ]
    },
    {
      "cell_type": "code",
      "execution_count": null,
      "metadata": {
        "id": "34U9UBZ2eSXG",
        "outputId": "664c69cf-7edb-4039-c064-b0a31714f844"
      },
      "outputs": [
        {
          "name": "stdout",
          "output_type": "stream",
          "text": [
            "Total number of half circles =  31\n"
          ]
        }
      ],
      "source": [
        "print(\"Total number of half circles = \",len(small))"
      ]
    },
    {
      "cell_type": "markdown",
      "metadata": {
        "id": "Q9G3eqM-eSXG"
      },
      "source": [
        "# correct"
      ]
    },
    {
      "cell_type": "markdown",
      "metadata": {
        "id": "Ga_0mI1OeSXG"
      },
      "source": [
        "## Q2"
      ]
    },
    {
      "cell_type": "markdown",
      "metadata": {
        "id": "BDXWAH5-eSXG"
      },
      "source": [
        "reading image as grayscale, blurring it, converting to black and white"
      ]
    },
    {
      "cell_type": "code",
      "execution_count": null,
      "metadata": {
        "id": "JlRC_2lheSXG",
        "outputId": "dff4eb0f-8e7a-4c70-a49d-7c03dd41de82"
      },
      "outputs": [
        {
          "data": {
            "text/plain": [
              "<matplotlib.image.AxesImage at 0x1e6b20b2e88>"
            ]
          },
          "execution_count": 72,
          "metadata": {},
          "output_type": "execute_result"
        },
        {
          "data": {
            "image/png": "[encoded data removed]",
            "text/plain": [
              "<Figure size 432x288 with 1 Axes>"
            ]
          },
          "metadata": {
            "needs_background": "light"
          },
          "output_type": "display_data"
        }
      ],
      "source": [
        "path = r'C:\\Users\\Abdullah\\Desktop\\python files\\aip\\bonus assign1\\data\\2.jpg'\n",
        "img = cv2.imread(path,cv2.IMREAD_GRAYSCALE)\n",
        "img = cv2.GaussianBlur(img, (5,5),0)\n",
        "plt.imshow(img,cmap=\"gray\")\n",
        "img = cv2.bitwise_not(img)\n",
        "# plt.imshow(img1,cmap='gray')\n",
        "thresh, bw =  cv2.threshold(img,10,240, cv2.THRESH_BINARY)\n",
        "plt.imshow(bw,cmap='gray')"
      ]
    },
    {
      "cell_type": "markdown",
      "metadata": {
        "id": "f2B5W-3KeSXH"
      },
      "source": [
        "finding contours and their area"
      ]
    },
    {
      "cell_type": "code",
      "execution_count": null,
      "metadata": {
        "scrolled": true,
        "id": "yWeH3mN3eSXH",
        "outputId": "3d9af46d-b768-4caf-b8e8-fc7b56daacea"
      },
      "outputs": [
        {
          "name": "stdout",
          "output_type": "stream",
          "text": [
            "13086.0\n",
            "1698.0\n",
            "13085.0\n",
            "2582.0\n",
            "13086.0\n",
            "3483.0\n",
            "12561.0\n",
            "4110.0\n",
            "13087.0\n",
            "7903.0\n"
          ]
        }
      ],
      "source": [
        "contours, hierarchy = cv2.findContours(bw,cv2.RETR_TREE,cv2.CHAIN_APPROX_SIMPLE)\n",
        "z=[]\n",
        "area=[]\n",
        "for x in range(len(contours)):\n",
        "    print(cv2.contourArea(contours[x]))\n",
        "    z.append(x)\n",
        "    area.append(cv2.contourArea(contours[x]))"
      ]
    },
    {
      "cell_type": "markdown",
      "metadata": {
        "id": "cfmNm8QWeSXH"
      },
      "source": [
        "finding the percentage of bars filled using the areas of contours"
      ]
    },
    {
      "cell_type": "code",
      "execution_count": null,
      "metadata": {
        "id": "CSI64uZfeSXH",
        "outputId": "1c30f1dc-5063-4cae-af3d-e8e9874a39aa"
      },
      "outputs": [
        {
          "name": "stdout",
          "output_type": "stream",
          "text": [
            "87.02430077945897  5th Bar\n",
            "80.26748184944593  4rth bar\n",
            "73.38376891334251  3rd bar\n",
            "67.27967518509674  2nd bar\n",
            "39.61182853213112  1st bar\n"
          ]
        }
      ],
      "source": [
        "print((((area[0]-area[1])/area[0])*100),\" 5th Bar\")\n",
        "print((((area[2]-area[3])/area[2])*100),\" 4rth bar\")\n",
        "print((((area[4]-area[5])/area[4])*100),\" 3rd bar\")\n",
        "print((((area[6]-area[7])/area[6])*100),\" 2nd bar\")\n",
        "print((((area[8]-area[9])/area[8])*100),\" 1st bar\")\n",
        "# assigning values as intgers\n",
        "bar5=int((((area[0]-area[1])/area[0])*100))\n",
        "bar4=int((((area[2]-area[3])/area[2])*100))\n",
        "bar3=int((((area[4]-area[5])/area[4])*100))\n",
        "bar2=int((((area[6]-area[7])/area[6])*100))\n",
        "bar1=int((((area[8]-area[9])/area[8])*100))"
      ]
    },
    {
      "cell_type": "code",
      "execution_count": null,
      "metadata": {
        "id": "65Fv8GAQeSXH",
        "outputId": "5cca888c-9601-4fae-fda4-007189cc73c7"
      },
      "outputs": [
        {
          "data": {
            "text/plain": [
              "<matplotlib.image.AxesImage at 0x1e686beeb88>"
            ]
          },
          "execution_count": 184,
          "metadata": {},
          "output_type": "execute_result"
        },
        {
          "data": {
            "image/png": "[encoded data removed]",
            "text/plain": [
              "<Figure size 432x288 with 1 Axes>"
            ]
          },
          "metadata": {
            "needs_background": "light"
          },
          "output_type": "display_data"
        }
      ],
      "source": [
        "#resizing image to get a wider image\n",
        "row=bw.shape[0]\n",
        "col=bw.shape[1]\n",
        "new=np.zeros((row,col+100))\n",
        "new[0:row,0:col]=bw\n",
        "#making copy\n",
        "imgcp=new.copy()\n",
        "\n",
        "#font style\n",
        "font = cv2.FONT_HERSHEY_SIMPLEX\n",
        "\n",
        "\n",
        "# fontScale\n",
        "fontScale = 0.8\n",
        "\n",
        "# Blue color in BGR\n",
        "color = (255, 0, 0)\n",
        "\n",
        "# Line thickness of 2 px\n",
        "thickness = 2\n",
        "\n",
        "# Using cv2.putText() method\n",
        "imgcp = cv2.putText(new, str(bar1)+'%', (537,30), font, fontScale, color, thickness, cv2.LINE_AA)\n",
        "imgcp = cv2.putText(new, str(bar2)+'%', (537,80), font, fontScale, color, thickness, cv2.LINE_AA)\n",
        "imgcp = cv2.putText(new, str(bar3)+'%', (537,130), font, fontScale, color, thickness, cv2.LINE_AA)\n",
        "imgcp = cv2.putText(new, str(bar4)+'%', (537,180), font, fontScale, color, thickness, cv2.LINE_AA)\n",
        "imgcp = cv2.putText(new, str(bar5)+'%', (537,230), font, fontScale, color, thickness, cv2.LINE_AA)\n",
        "\n",
        "plt.imshow(new,cmap='gray')"
      ]
    },
    {
      "cell_type": "markdown",
      "metadata": {
        "id": "YpvIpbvFeSXI"
      },
      "source": [
        "# Q3"
      ]
    },
    {
      "cell_type": "code",
      "execution_count": null,
      "metadata": {
        "scrolled": false,
        "id": "WIR20AeLeSXI",
        "outputId": "28e1d1a5-2453-4a58-9053-bcd2360462bf"
      },
      "outputs": [
        {
          "data": {
            "text/plain": [
              "<matplotlib.image.AxesImage at 0x1e68e7b41c8>"
            ]
          },
          "execution_count": 303,
          "metadata": {},
          "output_type": "execute_result"
        },
        {
          "data": {
            "image/png": "[encoded data removed]",
            "text/plain": [
              "<Figure size 432x288 with 1 Axes>"
            ]
          },
          "metadata": {
            "needs_background": "light"
          },
          "output_type": "display_data"
        }
      ],
      "source": [
        "path3 = r'C:\\Users\\Abdullah\\Desktop\\python files\\aip\\bonus assign1\\data\\3.jpg'\n",
        "img3 = cv2.imread(path3,cv2.IMREAD_GRAYSCALE)\n",
        "plt.imshow(img3,cmap='gray')\n",
        "img3 = cv2.bitwise_not(img3)\n",
        "thresh3, bw3 =  cv2.threshold(img3,10,240, cv2.THRESH_BINARY)\n",
        "plt.imshow(bw3,cmap='gray')"
      ]
    },
    {
      "cell_type": "markdown",
      "metadata": {
        "id": "_Kzto5UyeSXJ"
      },
      "source": [
        "FInding contours in the images"
      ]
    },
    {
      "cell_type": "code",
      "execution_count": null,
      "metadata": {
        "id": "Or-cinHueSXJ",
        "outputId": "8199a86c-b4fc-4dbf-ea0c-7dbe4f265495"
      },
      "outputs": [
        {
          "data": {
            "text/plain": [
              "176"
            ]
          },
          "execution_count": 319,
          "metadata": {},
          "output_type": "execute_result"
        }
      ],
      "source": [
        "contours, hierarchy = cv2.findContours(bw3,cv2.RETR_TREE,cv2.CHAIN_APPROX_NONE)\n",
        "len(contours)"
      ]
    },
    {
      "cell_type": "markdown",
      "metadata": {
        "id": "bfhMcdLQeSXJ"
      },
      "source": [
        "filtering objects that are other than noise using perimeters of contours"
      ]
    },
    {
      "cell_type": "code",
      "execution_count": null,
      "metadata": {
        "scrolled": true,
        "id": "AE1RlijReSXJ"
      },
      "outputs": [],
      "source": [
        "objects=[]\n",
        "for z in range(len(contours)):\n",
        "    perimeter = cv2.arcLength(contours[z],True)\n",
        "    if (perimeter>20):\n",
        "        objects.append(z)"
      ]
    },
    {
      "cell_type": "markdown",
      "metadata": {
        "id": "qtlX0xafeSXK"
      },
      "source": [
        "# Display only screws"
      ]
    },
    {
      "cell_type": "code",
      "execution_count": null,
      "metadata": {
        "scrolled": true,
        "id": "J8ax0US_eSXK",
        "outputId": "d14b9afc-271e-497f-d6c7-e8ef2a010981"
      },
      "outputs": [
        {
          "data": {
            "text/plain": [
              "<matplotlib.image.AxesImage at 0x1e692e76548>"
            ]
          },
          "execution_count": 316,
          "metadata": {},
          "output_type": "execute_result"
        },
        {
          "data": {
            "image/png": "[encoded data removed]",
            "text/plain": [
              "<Figure size 432x288 with 1 Axes>"
            ]
          },
          "metadata": {
            "needs_background": "light"
          },
          "output_type": "display_data"
        }
      ],
      "source": [
        "imgnew=np.zeros(img3.shape) #empty\n",
        "plt.imshow(cv2.drawContours(imgnew, contours, objects[15], (255,0,0),2),cmap='gray')\n",
        "plt.imshow(cv2.drawContours(imgnew, contours, objects[16], (255,0,0),2),cmap='gray')\n",
        "plt.imshow(cv2.drawContours(imgnew, contours, objects[17], (255,0,0),2),cmap='gray')\n",
        "plt.imshow(cv2.drawContours(imgnew, contours, objects[14], (255,0,0),2),cmap='gray')\n",
        "plt.imshow(cv2.drawContours(imgnew, contours, objects[13], (255,0,0),2),cmap='gray')\n",
        "plt.imshow(cv2.drawContours(imgnew, contours, objects[12], (255,0,0),2),cmap='gray')\n",
        "plt.imshow(cv2.drawContours(imgnew, contours, objects[11], (255,0,0),2),cmap='gray')\n",
        "plt.imshow(cv2.drawContours(imgnew, contours, objects[10], (255,0,0),2),cmap='gray')"
      ]
    },
    {
      "cell_type": "markdown",
      "metadata": {
        "id": "hggzyqn8eSXK"
      },
      "source": [
        "# Display only objects with holes"
      ]
    },
    {
      "cell_type": "code",
      "execution_count": null,
      "metadata": {
        "id": "6HQ_Of63eSXK",
        "outputId": "02323161-6622-4638-9f32-414896d0f44f"
      },
      "outputs": [
        {
          "data": {
            "text/plain": [
              "<matplotlib.image.AxesImage at 0x1e692e97288>"
            ]
          },
          "execution_count": 317,
          "metadata": {},
          "output_type": "execute_result"
        },
        {
          "data": {
            "image/png": "[encoded data removed]",
            "text/plain": [
              "<Figure size 432x288 with 1 Axes>"
            ]
          },
          "metadata": {
            "needs_background": "light"
          },
          "output_type": "display_data"
        }
      ],
      "source": [
        "imgnew=np.zeros(img3.shape)\n",
        "plt.imshow(cv2.drawContours(imgnew, contours, objects[9], (255,0,0),2),cmap='gray')\n",
        "plt.imshow(cv2.drawContours(imgnew, contours, objects[8], (255,0,0),24),cmap='gray')"
      ]
    },
    {
      "cell_type": "markdown",
      "metadata": {
        "id": "zmWwF3BweSXK"
      },
      "source": [
        "# Display only Nuts"
      ]
    },
    {
      "cell_type": "code",
      "execution_count": null,
      "metadata": {
        "id": "Jvsepdu0eSXL",
        "outputId": "3d74b65a-282b-4b03-e048-9490b84fd1e8"
      },
      "outputs": [
        {
          "data": {
            "image/png": "[encoded data removed]",
            "text/plain": [
              "<Figure size 432x288 with 1 Axes>"
            ]
          },
          "metadata": {
            "needs_background": "light"
          },
          "output_type": "display_data"
        }
      ],
      "source": [
        "imgnew=np.zeros(img3.shape)\n",
        "for x in range(8):\n",
        "    plt.imshow(cv2.drawContours(imgnew, contours, objects[x], (255,0,0),2),cmap='gray')\n",
        "# plt.imshow(cv2.drawContours(imgnew, contours, objects[8], (255,0,0),24),cmap='gray')"
      ]
    },
    {
      "cell_type": "markdown",
      "metadata": {
        "id": "PTQPozq5eSXL"
      },
      "source": [
        "# Q4"
      ]
    },
    {
      "cell_type": "code",
      "execution_count": null,
      "metadata": {
        "id": "BFo8LTHheSXL",
        "outputId": "11dc2680-e132-4de1-de9a-e90086f4956c"
      },
      "outputs": [
        {
          "data": {
            "text/plain": [
              "<matplotlib.image.AxesImage at 0x1e693c8b6c8>"
            ]
          },
          "execution_count": 322,
          "metadata": {},
          "output_type": "execute_result"
        },
        {
          "data": {
            "image/png": "[encoded data removed]",
            "text/plain": [
              "<Figure size 432x288 with 1 Axes>"
            ]
          },
          "metadata": {
            "needs_background": "light"
          },
          "output_type": "display_data"
        }
      ],
      "source": [
        "path4 = r'C:\\Users\\Abdullah\\Desktop\\python files\\aip\\bonus assign1\\data\\4.jpg'\n",
        "img4 = cv2.imread(path4,cv2.IMREAD_GRAYSCALE)\n",
        "plt.imshow(img4,cmap='gray')"
      ]
    },
    {
      "cell_type": "code",
      "execution_count": null,
      "metadata": {
        "id": "paybYh2AeSXL",
        "outputId": "4da1eedf-0792-4f55-d51b-66d04d24fcde"
      },
      "outputs": [
        {
          "data": {
            "text/plain": [
              "<matplotlib.image.AxesImage at 0x1e694c74bc8>"
            ]
          },
          "execution_count": 323,
          "metadata": {},
          "output_type": "execute_result"
        },
        {
          "data": {
            "image/png": "[encoded data removed]",
            "text/plain": [
              "<Figure size 432x288 with 1 Axes>"
            ]
          },
          "metadata": {
            "needs_background": "light"
          },
          "output_type": "display_data"
        }
      ],
      "source": [
        "path4 = r'C:\\Users\\Abdullah\\Desktop\\python files\\aip\\bonus assign1\\data\\4.jpg'\n",
        "img4 = cv2.imread(path4,cv2.IMREAD_GRAYSCALE)\n",
        "img4 = cv2.GaussianBlur(img4, (5,5),0)\n",
        "# plt.imshow(img4,cmap=\"gray\")\n",
        "img4 = cv2.bitwise_not(img4)\n",
        "# plt.imshow(img4,cmap='gray')\n",
        "thresh, bw4 =  cv2.threshold(img4,230,240, cv2.THRESH_BINARY)\n",
        "plt.imshow(bw4,cmap='gray')"
      ]
    },
    {
      "cell_type": "markdown",
      "metadata": {
        "id": "eDgEnlCueSXL"
      },
      "source": [
        "finding contours in image"
      ]
    },
    {
      "cell_type": "code",
      "execution_count": null,
      "metadata": {
        "id": "Yy1rHI4OeSXL"
      },
      "outputs": [],
      "source": [
        "contours, hierarchy = cv2.findContours(bw4,cv2.RETR_TREE,cv2.CHAIN_APPROX_NONE)"
      ]
    },
    {
      "cell_type": "markdown",
      "metadata": {
        "id": "ylPWwvrOeSXM"
      },
      "source": [
        "filtering noise base on the area of the contours"
      ]
    },
    {
      "cell_type": "code",
      "execution_count": null,
      "metadata": {
        "id": "bQ0AnVOceSXM",
        "outputId": "a981c4ab-dfc6-4f5b-ed47-10f488d0fb17"
      },
      "outputs": [
        {
          "name": "stdout",
          "output_type": "stream",
          "text": [
            "14696.5\n",
            "7656.0\n",
            "11296.5\n",
            "3962.5\n",
            "14707.0\n",
            "11253.0\n",
            "7630.0\n",
            "4005.5\n"
          ]
        }
      ],
      "source": [
        "#area of phase\n",
        "objects=[]\n",
        "num=0\n",
        "indexes=[]\n",
        "areas=[]\n",
        "for z in range(len(contours)):\n",
        "    if (cv2.contourArea(contours[z])>500 and cv2.contourArea(contours[z])<20000):\n",
        "        print(cv2.contourArea(contours[z]))\n",
        "        objects.append(z)\n",
        "        indexes.append(num)\n",
        "        areas.append(cv2.contourArea(contours[z]))\n",
        "    num+=1"
      ]
    },
    {
      "cell_type": "markdown",
      "metadata": {
        "id": "Iz1yONL_eSXM"
      },
      "source": [
        "drawing the countours for the objects in moon"
      ]
    },
    {
      "cell_type": "code",
      "execution_count": null,
      "metadata": {
        "id": "BK9-C_nQeSXT",
        "outputId": "f1b5f5bb-0938-4233-c107-4f45edd917e9"
      },
      "outputs": [
        {
          "data": {
            "image/png": "[encoded data removed]",
            "text/plain": [
              "<Figure size 432x288 with 1 Axes>"
            ]
          },
          "metadata": {
            "needs_background": "light"
          },
          "output_type": "display_data"
        }
      ],
      "source": [
        "imgn4=np.zeros(img4.shape)\n",
        "for x in range(len(objects)):\n",
        "    plt.imshow(cv2.drawContours(imgn4, contours, objects[x], (255,0,0),2),cmap='gray')"
      ]
    },
    {
      "cell_type": "markdown",
      "metadata": {
        "id": "hVj4OWEzeSXT"
      },
      "source": [
        "selecting countours for full, half, cresent and quater moon based on their area"
      ]
    },
    {
      "cell_type": "code",
      "execution_count": null,
      "metadata": {
        "id": "NAFUm9gleSXU"
      },
      "outputs": [],
      "source": [
        "full=[]\n",
        "half=[]\n",
        "quater=[]\n",
        "cresent=[]\n",
        "for x in range(len(areas)):\n",
        "    if (areas[x]>14600 and areas[x]<14800):\n",
        "        full.append(x)\n",
        "    elif (areas[x]>7600 and areas[x]<7700):\n",
        "        half.append(x)\n",
        "    elif (areas[x]>11200 and areas[x]<11300):\n",
        "        quater.append(x)\n",
        "    elif (areas[x]>3900 and areas[x]<4100):\n",
        "        cresent.append(x)"
      ]
    },
    {
      "cell_type": "markdown",
      "metadata": {
        "id": "fY6GkyHxeSXU"
      },
      "source": [
        "full moon"
      ]
    },
    {
      "cell_type": "code",
      "execution_count": null,
      "metadata": {
        "id": "F9RkThgdeSXV",
        "outputId": "bf730b8b-5e88-4337-f3dc-b492b4dca060"
      },
      "outputs": [
        {
          "data": {
            "text/plain": [
              "<matplotlib.image.AxesImage at 0x1e6969dea88>"
            ]
          },
          "execution_count": 350,
          "metadata": {},
          "output_type": "execute_result"
        },
        {
          "data": {
            "image/png": "[encoded data removed]",
            "text/plain": [
              "<Figure size 432x288 with 1 Axes>"
            ]
          },
          "metadata": {
            "needs_background": "light"
          },
          "output_type": "display_data"
        }
      ],
      "source": [
        "img4full=np.zeros(bw4.shape)\n",
        "plt.imshow(cv2.drawContours(img4full, contours, indexes[full[0]], (255,0,0),2),cmap='gray')\n",
        "plt.imshow(cv2.drawContours(img4full, contours, indexes[full[1]], (255,0,0),2),cmap='gray')"
      ]
    },
    {
      "cell_type": "markdown",
      "metadata": {
        "id": "o48R-HBPeSXV"
      },
      "source": [
        "half moon"
      ]
    },
    {
      "cell_type": "code",
      "execution_count": null,
      "metadata": {
        "id": "QhzEFhMHeSXV",
        "outputId": "a2348ba5-61e6-4631-c3ff-b3a211d11043"
      },
      "outputs": [
        {
          "data": {
            "text/plain": [
              "<matplotlib.image.AxesImage at 0x1e699570a08>"
            ]
          },
          "execution_count": 351,
          "metadata": {},
          "output_type": "execute_result"
        },
        {
          "data": {
            "image/png": "[encoded data removed]",
            "text/plain": [
              "<Figure size 432x288 with 1 Axes>"
            ]
          },
          "metadata": {
            "needs_background": "light"
          },
          "output_type": "display_data"
        }
      ],
      "source": [
        "img4hlf=np.zeros(bw4.shape)\n",
        "plt.imshow(cv2.drawContours(img4hlf, contours, indexes[half[0]], (255,0,0),2),cmap='gray')\n",
        "plt.imshow(cv2.drawContours(img4hlf, contours, indexes[half[1]], (255,0,0),2),cmap='gray')"
      ]
    },
    {
      "cell_type": "markdown",
      "metadata": {
        "id": "IhzZVLZ3eSXV"
      },
      "source": [
        "quater moon"
      ]
    },
    {
      "cell_type": "code",
      "execution_count": null,
      "metadata": {
        "id": "daCbOsvUeSXW",
        "outputId": "a623230d-a301-48a3-c49b-c6c82b7584bc"
      },
      "outputs": [
        {
          "data": {
            "text/plain": [
              "<matplotlib.image.AxesImage at 0x1e693b58b88>"
            ]
          },
          "execution_count": 352,
          "metadata": {},
          "output_type": "execute_result"
        },
        {
          "data": {
            "image/png": "[encoded data removed]",
            "text/plain": [
              "<Figure size 432x288 with 1 Axes>"
            ]
          },
          "metadata": {
            "needs_background": "light"
          },
          "output_type": "display_data"
        }
      ],
      "source": [
        "img4qtr=np.zeros(bw4.shape)\n",
        "plt.imshow(cv2.drawContours(img4qtr, contours, indexes[quater[0]], (255,0,0),2),cmap='gray')\n",
        "plt.imshow(cv2.drawContours(img4qtr, contours, indexes[quater[1]], (255,0,0),2),cmap='gray')"
      ]
    },
    {
      "cell_type": "markdown",
      "metadata": {
        "id": "aUUDVlafeSXW"
      },
      "source": [
        "cresent moon"
      ]
    },
    {
      "cell_type": "code",
      "execution_count": null,
      "metadata": {
        "id": "TtbEKrNPeSXW",
        "outputId": "93621bee-d30f-4369-8ac6-9839652ee1c3"
      },
      "outputs": [
        {
          "data": {
            "text/plain": [
              "<matplotlib.image.AxesImage at 0x1e695c931c8>"
            ]
          },
          "execution_count": 354,
          "metadata": {},
          "output_type": "execute_result"
        },
        {
          "data": {
            "image/png": "[encoded data removed]",
            "text/plain": [
              "<Figure size 432x288 with 1 Axes>"
            ]
          },
          "metadata": {
            "needs_background": "light"
          },
          "output_type": "display_data"
        }
      ],
      "source": [
        "img4cst=np.zeros(bw4.shape)\n",
        "plt.imshow(cv2.drawContours(img4cst, contours, indexes[cresent[0]], (255,0,0),2),cmap='gray')\n",
        "plt.imshow(cv2.drawContours(img4cst, contours, indexes[cresent[1]], (255,0,0),2),cmap='gray')"
      ]
    },
    {
      "cell_type": "code",
      "execution_count": null,
      "metadata": {
        "id": "vPr2B1ANeSXW"
      },
      "outputs": [],
      "source": []
    }
  ],
  "metadata": {
    "kernelspec": {
      "display_name": "Python 3",
      "language": "python",
      "name": "python3"
    },
    "language_info": {
      "codemirror_mode": {
        "name": "ipython",
        "version": 3
      },
      "file_extension": ".py",
      "mimetype": "text/x-python",
      "name": "python",
      "nbconvert_exporter": "python",
      "pygments_lexer": "ipython3",
      "version": "3.7.6"
    },
    "colab": {
      "provenance": []
    }
  },
  "nbformat": 4,
  "nbformat_minor": 0
}